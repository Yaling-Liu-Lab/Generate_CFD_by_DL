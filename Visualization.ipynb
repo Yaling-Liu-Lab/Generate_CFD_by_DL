{
 "cells": [
  {
   "cell_type": "code",
   "execution_count": 1,
   "metadata": {},
   "outputs": [],
   "source": [
    "import torch\n",
    "import torch.nn as nn\n",
    "import torch.nn.functional as F\n",
    "import torch.optim as optim\n",
    "import numpy as np\n",
    "import matplotlib.pyplot as plt\n",
    "import argparse\n",
    "import os\n",
    "import time"
   ]
  },
  {
   "cell_type": "markdown",
   "metadata": {},
   "source": [
    "# Input data for physics-informed generative model solving PDE equations"
   ]
  },
  {
   "cell_type": "markdown",
   "metadata": {},
   "source": [
    "## 1. Laplace equation\n",
    "$$ \\frac {\\partial^2 T}{\\partial x^2} +  \\frac {\\partial^2 T}{\\partial x^2} = 0 $$\n",
    "\n",
    "This is an eclipitic equation and could have two types of boundary condition, Neumann BC and Dirichelet BC\n",
    "\n",
    "For Dirichlet BC, the value of the variable T is fixed, while on Neumann BC the value is related to relation between neighbour nodes.\n",
    "\n",
    "### Dirichlet boundary condition:\n",
    "\n"
   ]
  },
  {
   "cell_type": "code",
   "execution_count": 36,
   "metadata": {},
   "outputs": [
    {
     "data": {
      "text/plain": [
       "<matplotlib.image.AxesImage at 0x7f40503a7780>"
      ]
     },
     "execution_count": 36,
     "metadata": {},
     "output_type": "execute_result"
    },
    {
     "data": {
      "image/png": "[encoded data removed]",
      "text/plain": [
       "<matplotlib.figure.Figure at 0x7f4050341898>"
      ]
     },
     "metadata": {
      "needs_background": "light"
     },
     "output_type": "display_data"
    }
   ],
   "source": [
    "T = torch.zeros(1,1,32,32)\n",
    "top, bottom, left, right = 100, 10, 100, 50\n",
    "T[:,:,0,:] = top\n",
    "T[:,:,-1,:] = bottom\n",
    "T[:,:,:,0] = left\n",
    "T[:,:,:,-1] = right\n",
    "    \n",
    "T[:,:,0,0] = (top + left) / 2\n",
    "T[:,:,0,-1] = (top + right) / 2\n",
    "T[:,:,-1,0] = (bottom + left) / 2\n",
    "T[:,:,-1,-1] = (bottom + right) / 2\n",
    "plt.imshow(T.cpu().detach().numpy()[0,0,:,:], vmin = 0, vmax = 100, cmap = plt.cm.viridis)"
   ]
  },
  {
   "cell_type": "markdown",
   "metadata": {},
   "source": [
    "### Neumann boundary condition:\n",
    "\n",
    "Supose one of the boundary, say, left boundary, contains Neumann BC:\n",
    "$$\\frac{\\partial T}{\\partial x} = a$$\n",
    "On top the original setup for Dirichlet BC, we make use of the most externel nodes to be the indicator of the information from Neumann BC\n",
    "\n",
    "Normalize all the data into 0 to 1. And fixed the geometry of the domain to be L = 1 "
   ]
  },
  {
   "cell_type": "code",
   "execution_count": 32,
   "metadata": {},
   "outputs": [
    {
     "name": "stdout",
     "output_type": "stream",
     "text": [
      "<class 'torch.cuda.FloatTensor'>\n"
     ]
    }
   ],
   "source": [
    "L = 1\n",
    "dtype = torch.cuda.FloatTensor if torch.cuda.is_available() else torch.FloatTensor\n",
    "print(dtype)"
   ]
  },
  {
   "cell_type": "code",
   "execution_count": 14,
   "metadata": {},
   "outputs": [],
   "source": [
    "def get_solution(input_T, isNeum, dtype = torch.cuda.FloatTensor):\n",
    "    \"FDM method to solve laplace eqn\"\n",
    "    \"a denotes the Neumann boundary condition at X = 0\"\n",
    "    maxIter = 1e8\n",
    "    padT = input_T[0,0,:,:].numpy()\n",
    "    output_T = input_T.clone().numpy()\n",
    "    # READ NEUMANN BC FROM INPUT_T\n",
    "    if isNeum[0]:\n",
    "        nbc_left = padT[2:-2,0]\n",
    "        print(nbc_left)\n",
    "    if isNeum[1]:\n",
    "        nbc_upper = padT[0,2:-2]\n",
    "    if isNeum[2]:\n",
    "        nbc_right = padT[2:-2,-1]\n",
    "    if isNeum[3]:\n",
    "        nbc_bottom = padT[-1,2:-2]\n",
    "    \n",
    "    # Acquire the real compute domain of T   \n",
    "    T = padT[1:-1,1:-1]\n",
    "    h = L / np.size(padT[0,:])\n",
    "    T_new = np.copy(T)\n",
    "    iteration = 0\n",
    "    while iteration < maxIter:\n",
    "        T_new[1:-1, 1:-1] = ((T_new[0:-2, 1:-1] + T_new[2:, 1:-1]) + (T_new[1:-1,0:-2] + T_new[1:-1, 2:]))*0.25\n",
    "        if isNeum[0]:\n",
    "            T_new[1:-1,0] = 1/3 * (4*T_new[1:-1,1] - T_new[1:-1, 2]  - 2*h*nbc_left)       \n",
    "        err = (T_new - T).flat\n",
    "        err = np.sqrt(np.dot(err,err))\n",
    "        if err <= 1e-12:\n",
    "            output_T[0,0,1:-1,1:-1] = T_new\n",
    "            return torch.from_numpy(output_T).type(dtype)\n",
    "        T = np.copy(T_new)\n",
    "        iteration += 1\n",
    "    output_T[0,0,1:-1,1:-1] = T_new    \n",
    "    return torch.from_numpy(output_T).type(dtype)\n"
   ]
  },
  {
   "cell_type": "code",
   "execution_count": 31,
   "metadata": {},
   "outputs": [
    {
     "name": "stdout",
     "output_type": "stream",
     "text": [
      "[0.001 0.001 0.001 0.001 0.001 0.001 0.001 0.001 0.001 0.001 0.001 0.001\n",
      " 0.001 0.001 0.001 0.001 0.001 0.001 0.001 0.001 0.001 0.001 0.001 0.001\n",
      " 0.001 0.001 0.001 0.001]\n"
     ]
    },
    {
     "data": {
      "text/plain": [
       "Text(0,0.5,'Y')"
      ]
     },
     "execution_count": 31,
     "metadata": {},
     "output_type": "execute_result"
    },
    {
     "data": {
      "image/png": "[encoded data removed]",
      "text/plain": [
       "<matplotlib.figure.Figure at 0x7f4042df2d30>"
      ]
     },
     "metadata": {
      "needs_background": "light"
     },
     "output_type": "display_data"
    }
   ],
   "source": [
    "size = 32\n",
    "T = torch.zeros(1,1,size,size)\n",
    "isNeum = [True, False, False, False]\n",
    "nbc = [0.001,0,0,0]\n",
    "top, bottom, left, right = 0.9, 0.1, 0.1, 0.5\n",
    "\n",
    "T[:,:,1,1:-1] = top\n",
    "T[:,:,-2,1:-1] = bottom\n",
    "T[:,:,1:-1,1] = left\n",
    "T[:,:,1:-1,-2] = right\n",
    "\n",
    "T[:,:,1,1] = (top + left) / 2\n",
    "T[:,:,1,-2] = (top + right) / 2\n",
    "T[:,:,-2,1] = (bottom + left) / 2\n",
    "T[:,:,-2,-2] = (bottom + right) / 2\n",
    "\n",
    "\n",
    "if isNeum[0]:\n",
    "    T[:,:,1:-1,1] = torch.linspace(top,bottom,steps=size-2)\n",
    "    T[:,:,2:-2,0] = nbc[0]\n",
    "fig, (ax1, ax2) = plt.subplots(1, 2, figsize = [12, 6])\n",
    "\n",
    "ax1.imshow(T.detach().numpy()[0,0,:,:], vmin=0, vmax=1, cmap=plt.cm.inferno)\n",
    "ax1.set_title(\"Example of training data\")\n",
    "ax1.set_xlabel(\"X\")\n",
    "ax1.set_ylabel(\"Y\")\n",
    "\n",
    "sol = get_solution(T,[True, False, False, False])\n",
    "ax2.imshow(sol.cpu().detach().numpy()[0,0,:,:], vmin=0, vmax=1, cmap=plt.cm.inferno)\n",
    "ax2.set_title(\"Corresponding solution\")\n",
    "ax2.set_xlabel(\"X\")\n",
    "ax2.set_ylabel(\"Y\")"
   ]
  },
  {
   "cell_type": "code",
   "execution_count": 29,
   "metadata": {},
   "outputs": [
    {
     "data": {
      "text/plain": [
       "Text(0.5,0.98,'Take a look at the left boundary')"
      ]
     },
     "execution_count": 29,
     "metadata": {},
     "output_type": "execute_result"
    },
    {
     "data": {
      "image/png": "[encoded data removed]",
      "text/plain": [
       "<matplotlib.figure.Figure at 0x7f4048188f60>"
      ]
     },
     "metadata": {
      "needs_background": "light"
     },
     "output_type": "display_data"
    }
   ],
   "source": [
    "bd = T[:,:,1:-1,0:3].type(dtype)\n",
    "fig, (ax1, ax2) = plt.subplots(1,2)\n",
    "ax1.imshow(bd.cpu().detach().numpy()[0,0,:,:], vmin=0, vmax=1, cmap=plt.cm.inferno)\n",
    "bdsol = sol[:,:,1:-1,0:3].type(dtype)\n",
    "ax2.imshow(bdsol.cpu().detach().numpy()[0,0,:,:], vmin=0, vmax=1, cmap=plt.cm.inferno)\n",
    "fig.suptitle('Take a look at the left boundary', fontsize=16)"
   ]
  },
  {
   "cell_type": "code",
   "execution_count": null,
   "metadata": {},
   "outputs": [],
   "source": []
  }
 ],
 "metadata": {
  "kernelspec": {
   "display_name": "Python 3",
   "language": "python",
   "name": "python3"
  },
  "language_info": {
   "codemirror_mode": {
    "name": "ipython",
    "version": 3
   },
   "file_extension": ".py",
   "mimetype": "text/x-python",
   "name": "python",
   "nbconvert_exporter": "python",
   "pygments_lexer": "ipython3",
   "version": "3.6.8"
  }
 },
 "nbformat": 4,
 "nbformat_minor": 2
}
