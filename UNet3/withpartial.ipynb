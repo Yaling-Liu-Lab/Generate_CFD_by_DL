{
 "cells": [
  {
   "cell_type": "code",
   "execution_count": 2,
   "metadata": {},
   "outputs": [],
   "source": [
    "import torch\n",
    "import numpy as np\n",
    "import matplotlib.pyplot as plt\n",
    "\n",
    "from cavity_solver import solve_flow\n",
    "from UNet3 import UNet, conv_loss\n",
    "\n",
    "\n",
    "import torch.nn as nn\n",
    "import torch.nn.functional as F\n",
    "import torch.optim as optim\n",
    "import numpy as np\n",
    "import matplotlib.pyplot as plt\n",
    "from samples import get_samples, get_training_data\n",
    "from torch.utils import data\n",
    "import time\n",
    "from dask import delayed\n",
    "\n",
    "import os\n",
    "\n",
    "gpu_no = '0' # or '1'\n",
    "os.environ[\"CUDA_VISIBLE_DEVICES\"] = gpu_no"
   ]
  },
  {
   "cell_type": "code",
   "execution_count": 3,
   "metadata": {},
   "outputs": [
    {
     "data": {
      "text/plain": [
       "UNet(\n",
       "  (encoding_layers): ModuleList(\n",
       "    (0): Conv2d(3, 64, kernel_size=(4, 4), stride=(2, 2), padding=(1, 1))\n",
       "    (1): Conv2d(64, 128, kernel_size=(4, 4), stride=(2, 2), padding=(1, 1))\n",
       "    (2): Conv2d(128, 256, kernel_size=(4, 4), stride=(2, 2), padding=(1, 1))\n",
       "    (3): Conv2d(256, 512, kernel_size=(4, 4), stride=(2, 2), padding=(1, 1))\n",
       "    (4): Conv2d(512, 512, kernel_size=(4, 4), stride=(2, 2), padding=(1, 1))\n",
       "  )\n",
       "  (encoding_BN): ModuleList(\n",
       "    (0): BatchNorm2d(64, eps=1e-05, momentum=0.1, affine=True, track_running_stats=True)\n",
       "    (1): BatchNorm2d(128, eps=1e-05, momentum=0.1, affine=True, track_running_stats=True)\n",
       "    (2): BatchNorm2d(256, eps=1e-05, momentum=0.1, affine=True, track_running_stats=True)\n",
       "    (3): BatchNorm2d(512, eps=1e-05, momentum=0.1, affine=True, track_running_stats=True)\n",
       "    (4): BatchNorm2d(512, eps=1e-05, momentum=0.1, affine=True, track_running_stats=True)\n",
       "  )\n",
       "  (decoding_layers): ModuleList(\n",
       "    (0): ConvTranspose2d(512, 512, kernel_size=(4, 4), stride=(2, 2), padding=(1, 1))\n",
       "    (1): ConvTranspose2d(1024, 256, kernel_size=(4, 4), stride=(2, 2), padding=(1, 1))\n",
       "    (2): ConvTranspose2d(512, 128, kernel_size=(4, 4), stride=(2, 2), padding=(1, 1))\n",
       "    (3): ConvTranspose2d(256, 64, kernel_size=(4, 4), stride=(2, 2), padding=(1, 1))\n",
       "    (4): ConvTranspose2d(128, 3, kernel_size=(4, 4), stride=(2, 2), padding=(1, 1))\n",
       "  )\n",
       "  (decoding_BN): ModuleList(\n",
       "    (0): BatchNorm2d(512, eps=1e-05, momentum=0.1, affine=True, track_running_stats=True)\n",
       "    (1): BatchNorm2d(256, eps=1e-05, momentum=0.1, affine=True, track_running_stats=True)\n",
       "    (2): BatchNorm2d(128, eps=1e-05, momentum=0.1, affine=True, track_running_stats=True)\n",
       "    (3): BatchNorm2d(64, eps=1e-05, momentum=0.1, affine=True, track_running_stats=True)\n",
       "    (4): BatchNorm2d(64, eps=1e-05, momentum=0.1, affine=True, track_running_stats=True)\n",
       "  )\n",
       ")"
      ]
     },
     "execution_count": 3,
     "metadata": {},
     "output_type": "execute_result"
    }
   ],
   "source": [
    "dtype = torch.cuda.FloatTensor\n",
    "filename = 'NScavityFlow_withpartial.pth'\n",
    "\n",
    "unet = UNet(dtype, img_size=32).type(dtype)\n",
    "#     print(unet)\n",
    "optimizer = optim.Adam(unet.parameters(), lr = 2e-5)\n",
    "checkpoint = torch.load(filename)\n",
    "unet.load_state_dict(checkpoint['model_state_dict'])\n",
    "optimizer.load_state_dict(checkpoint['optimizer_state_dict'])\n",
    "unet.eval()\n"
   ]
  },
  {
   "cell_type": "code",
   "execution_count": 4,
   "metadata": {},
   "outputs": [],
   "source": [
    "class CavityFlowDataset(data.Dataset):\n",
    "    \"\"\"Characterizes the cavity flow dataset for training. \"\"\"\n",
    "    \n",
    "    def __init__(self, root_dir, flowfile):\n",
    "        'Initialization'\n",
    "        self.flowdata = torch.load(root_dir + flowfile)\n",
    "\n",
    "    def __len__(self):\n",
    "        'Denotes the total number of samples'\n",
    "        return self.flowdata.size()[0]\n",
    "\n",
    "    def __getitem__(self, index):\n",
    "        'Generates one sample of data'\n",
    "        X = self.flowdata[index]\n",
    "        return X"
   ]
  },
  {
   "cell_type": "code",
   "execution_count": 4,
   "metadata": {},
   "outputs": [],
   "source": [
    "import pickle\n",
    "unet_partial = pickle.loads(pickle.dumps(unet))"
   ]
  },
  {
   "cell_type": "code",
   "execution_count": 5,
   "metadata": {},
   "outputs": [
    {
     "name": "stdout",
     "output_type": "stream",
     "text": [
      "epoch  0 loss  0.011551492847502232\n"
     ]
    },
    {
     "ename": "KeyboardInterrupt",
     "evalue": "",
     "output_type": "error",
     "traceback": [
      "\u001b[0;31m---------------------------------------------------------------------------\u001b[0m",
      "\u001b[0;31mKeyboardInterrupt\u001b[0m                         Traceback (most recent call last)",
      "\u001b[0;32m<ipython-input-5-1bdd239784cb>\u001b[0m in \u001b[0;36m<module>\u001b[0;34m\u001b[0m\n\u001b[1;32m     18\u001b[0m         \u001b[0moptimizer\u001b[0m\u001b[0;34m.\u001b[0m\u001b[0mzero_grad\u001b[0m\u001b[0;34m(\u001b[0m\u001b[0;34m)\u001b[0m\u001b[0;34m\u001b[0m\u001b[0;34m\u001b[0m\u001b[0m\n\u001b[1;32m     19\u001b[0m         \u001b[0mloss\u001b[0m\u001b[0;34m.\u001b[0m\u001b[0mbackward\u001b[0m\u001b[0;34m(\u001b[0m\u001b[0;34m)\u001b[0m\u001b[0;34m\u001b[0m\u001b[0;34m\u001b[0m\u001b[0m\n\u001b[0;32m---> 20\u001b[0;31m         \u001b[0moptimizer\u001b[0m\u001b[0;34m.\u001b[0m\u001b[0mstep\u001b[0m\u001b[0;34m(\u001b[0m\u001b[0;34m)\u001b[0m\u001b[0;34m\u001b[0m\u001b[0;34m\u001b[0m\u001b[0m\n\u001b[0m\u001b[1;32m     21\u001b[0m     \u001b[0mprint\u001b[0m\u001b[0;34m(\u001b[0m\u001b[0;34m\"epoch \"\u001b[0m\u001b[0;34m,\u001b[0m \u001b[0mepoch\u001b[0m\u001b[0;34m,\u001b[0m \u001b[0;34m\"loss \"\u001b[0m\u001b[0;34m,\u001b[0m \u001b[0mfloat\u001b[0m\u001b[0;34m(\u001b[0m\u001b[0mloss\u001b[0m\u001b[0;34m.\u001b[0m\u001b[0mdetach\u001b[0m\u001b[0;34m(\u001b[0m\u001b[0;34m)\u001b[0m\u001b[0;34m)\u001b[0m\u001b[0;34m)\u001b[0m\u001b[0;34m\u001b[0m\u001b[0;34m\u001b[0m\u001b[0m\n\u001b[1;32m     22\u001b[0m \u001b[0;31m#     loss_hist.append(float(loss.detach()))\u001b[0m\u001b[0;34m\u001b[0m\u001b[0;34m\u001b[0m\u001b[0;34m\u001b[0m\u001b[0m\n",
      "\u001b[0;32m/opt/anaconda3/2019.10/lib/python3.7/site-packages/torch/optim/adam.py\u001b[0m in \u001b[0;36mstep\u001b[0;34m(self, closure)\u001b[0m\n\u001b[1;32m    105\u001b[0m                 \u001b[0mstep_size\u001b[0m \u001b[0;34m=\u001b[0m \u001b[0mgroup\u001b[0m\u001b[0;34m[\u001b[0m\u001b[0;34m'lr'\u001b[0m\u001b[0;34m]\u001b[0m \u001b[0;34m/\u001b[0m \u001b[0mbias_correction1\u001b[0m\u001b[0;34m\u001b[0m\u001b[0;34m\u001b[0m\u001b[0m\n\u001b[1;32m    106\u001b[0m \u001b[0;34m\u001b[0m\u001b[0m\n\u001b[0;32m--> 107\u001b[0;31m                 \u001b[0mp\u001b[0m\u001b[0;34m.\u001b[0m\u001b[0mdata\u001b[0m\u001b[0;34m.\u001b[0m\u001b[0maddcdiv_\u001b[0m\u001b[0;34m(\u001b[0m\u001b[0;34m-\u001b[0m\u001b[0mstep_size\u001b[0m\u001b[0;34m,\u001b[0m \u001b[0mexp_avg\u001b[0m\u001b[0;34m,\u001b[0m \u001b[0mdenom\u001b[0m\u001b[0;34m)\u001b[0m\u001b[0;34m\u001b[0m\u001b[0;34m\u001b[0m\u001b[0m\n\u001b[0m\u001b[1;32m    108\u001b[0m \u001b[0;34m\u001b[0m\u001b[0m\n\u001b[1;32m    109\u001b[0m         \u001b[0;32mreturn\u001b[0m \u001b[0mloss\u001b[0m\u001b[0;34m\u001b[0m\u001b[0;34m\u001b[0m\u001b[0m\n",
      "\u001b[0;31mKeyboardInterrupt\u001b[0m: "
     ]
    }
   ],
   "source": [
    "# Continue training on previous model\n",
    "flow_dataset = CavityFlowDataset(root_dir='./', flowfile = 'FlowData_UV_0210_warm_partial.pt')\n",
    "dataloader = data.DataLoader(flow_dataset, batch_size = 16,\n",
    "                        shuffle=True, num_workers=2)\n",
    "# ## TEST DATA LOADING AND TRAINING 0130\n",
    "dtype = torch.cuda.FloatTensor\n",
    "get_loss = conv_loss(dtype = dtype)\n",
    "# unet = UNet(dtype = dtype, img_size=32).type(dtype)\n",
    "# optimizer = optim.Adam(unet.parameters(), lr = 2e-5)\n",
    "\n",
    "for epoch in range(0,80000):\n",
    "    for S in dataloader:\n",
    "        img = S.requires_grad_(True).type(dtype)\n",
    "        output = unet(img)\n",
    "#         print(get_loss(img, img))\n",
    "        loss = get_loss(img.detach(), output)\n",
    "#         print(loss)\n",
    "        optimizer.zero_grad()\n",
    "        loss.backward()\n",
    "        optimizer.step()\n",
    "    print(\"epoch \", epoch, \"loss \", float(loss.detach()))\n",
    "#     loss_hist.append(float(loss.detach()))\n",
    "    del loss"
   ]
  },
  {
   "cell_type": "code",
   "execution_count": 6,
   "metadata": {},
   "outputs": [
    {
     "data": {
      "text/plain": [
       "<matplotlib.image.AxesImage at 0x7fb06947ce50>"
      ]
     },
     "execution_count": 6,
     "metadata": {},
     "output_type": "execute_result"
    },
    {
     "data": {
      "image/png": "[encoded data removed]",
      "text/plain": [
       "<Figure size 432x288 with 1 Axes>"
      ]
     },
     "metadata": {
      "needs_background": "light"
     },
     "output_type": "display_data"
    }
   ],
   "source": [
    "plt.imshow(output[1,0,:,:].detach().cpu().numpy())"
   ]
  },
  {
   "cell_type": "code",
   "execution_count": 5,
   "metadata": {},
   "outputs": [
    {
     "data": {
      "text/plain": [
       "tensor(0.0130, device='cuda:0', grad_fn=<AddBackward0>)"
      ]
     },
     "execution_count": 5,
     "metadata": {},
     "output_type": "execute_result"
    }
   ],
   "source": [
    "S = torch.load('FlowData_UV_0210_warm_partial.pt')\n",
    "img = S.type(dtype)\n",
    "output = unet(img).type(dtype)\n",
    "\n",
    "get_loss = conv_loss(dtype = dtype)\n",
    "get_loss(img.detach(), output)"
   ]
  },
  {
   "cell_type": "code",
   "execution_count": 15,
   "metadata": {},
   "outputs": [],
   "source": [
    "del loss"
   ]
  },
  {
   "cell_type": "code",
   "execution_count": 47,
   "metadata": {},
   "outputs": [
    {
     "data": {
      "text/plain": [
       "UNet(\n",
       "  (encoding_layers): ModuleList(\n",
       "    (0): Conv2d(3, 64, kernel_size=(4, 4), stride=(2, 2), padding=(1, 1))\n",
       "    (1): Conv2d(64, 128, kernel_size=(4, 4), stride=(2, 2), padding=(1, 1))\n",
       "    (2): Conv2d(128, 256, kernel_size=(4, 4), stride=(2, 2), padding=(1, 1))\n",
       "    (3): Conv2d(256, 512, kernel_size=(4, 4), stride=(2, 2), padding=(1, 1))\n",
       "    (4): Conv2d(512, 512, kernel_size=(4, 4), stride=(2, 2), padding=(1, 1))\n",
       "  )\n",
       "  (encoding_BN): ModuleList(\n",
       "    (0): BatchNorm2d(64, eps=1e-05, momentum=0.1, affine=True, track_running_stats=True)\n",
       "    (1): BatchNorm2d(128, eps=1e-05, momentum=0.1, affine=True, track_running_stats=True)\n",
       "    (2): BatchNorm2d(256, eps=1e-05, momentum=0.1, affine=True, track_running_stats=True)\n",
       "    (3): BatchNorm2d(512, eps=1e-05, momentum=0.1, affine=True, track_running_stats=True)\n",
       "    (4): BatchNorm2d(512, eps=1e-05, momentum=0.1, affine=True, track_running_stats=True)\n",
       "  )\n",
       "  (decoding_layers): ModuleList(\n",
       "    (0): ConvTranspose2d(512, 512, kernel_size=(4, 4), stride=(2, 2), padding=(1, 1))\n",
       "    (1): ConvTranspose2d(1024, 256, kernel_size=(4, 4), stride=(2, 2), padding=(1, 1))\n",
       "    (2): ConvTranspose2d(512, 128, kernel_size=(4, 4), stride=(2, 2), padding=(1, 1))\n",
       "    (3): ConvTranspose2d(256, 64, kernel_size=(4, 4), stride=(2, 2), padding=(1, 1))\n",
       "    (4): ConvTranspose2d(128, 3, kernel_size=(4, 4), stride=(2, 2), padding=(1, 1))\n",
       "  )\n",
       "  (decoding_BN): ModuleList(\n",
       "    (0): BatchNorm2d(512, eps=1e-05, momentum=0.1, affine=True, track_running_stats=True)\n",
       "    (1): BatchNorm2d(256, eps=1e-05, momentum=0.1, affine=True, track_running_stats=True)\n",
       "    (2): BatchNorm2d(128, eps=1e-05, momentum=0.1, affine=True, track_running_stats=True)\n",
       "    (3): BatchNorm2d(64, eps=1e-05, momentum=0.1, affine=True, track_running_stats=True)\n",
       "    (4): BatchNorm2d(64, eps=1e-05, momentum=0.1, affine=True, track_running_stats=True)\n",
       "  )\n",
       ")"
      ]
     },
     "execution_count": 47,
     "metadata": {},
     "output_type": "execute_result"
    }
   ],
   "source": [
    "unet.to(\"cuda:0\")"
   ]
  },
  {
   "cell_type": "code",
   "execution_count": 8,
   "metadata": {},
   "outputs": [
    {
     "name": "stdout",
     "output_type": "stream",
     "text": [
      "torch.Size([16, 3, 32, 32])\n",
      "U0 is:  [0.         0.         0.         0.         0.         0.\n",
      " 0.         0.         0.         0.         0.         0.\n",
      " 0.         0.         0.         0.         0.         0.\n",
      " 0.         0.         0.         0.         0.         0.\n",
      " 0.01515152 0.01515152 0.01515152 0.01515152 0.         0.\n",
      " 0.         0.        ]\n",
      "V0 is:  [0.         0.         0.         0.         0.         0.\n",
      " 0.         0.         0.         0.         0.         0.\n",
      " 0.         0.         0.         0.         0.         0.\n",
      " 0.         0.         0.         0.         0.         0.\n",
      " 0.14646465 0.14646465 0.14646465 0.14646465 0.         0.\n",
      " 0.         0.        ]\n",
      "tensor(0.0130, device='cuda:0', grad_fn=<AddBackward0>)\n"
     ]
    },
    {
     "data": {
      "image/png": "[encoded data removed]",
      "text/plain": [
       "<Figure size 1152x1080 with 9 Axes>"
      ]
     },
     "metadata": {
      "needs_background": "light"
     },
     "output_type": "display_data"
    }
   ],
   "source": [
    "S = torch.load('FlowData_UV_0210_warm_partial.pt')\n",
    "unet.eval()\n",
    "img = S[0:16].type(dtype)\n",
    "N = 1\n",
    "output = unet(img)\n",
    "print(output.size())\n",
    "UMAX, UMIN = 0.5, -0.5\n",
    "VMAX, VMIN = 1.0, -0.25\n",
    "PMAX, PMIN = 6.5, -2.5\n",
    "print(\"U0 is: \", img[N,0,0,:].detach().cpu().numpy())\n",
    "u0 = img[N,0,0,:].detach().cpu().numpy()\n",
    "print(\"V0 is: \", img[N,1,0,:].detach().cpu().numpy())\n",
    "v0 = img[N,1,0,:].detach().cpu().numpy()\n",
    "size = 32\n",
    "u = np.zeros((size, size))\n",
    "v = np.zeros((size, size))\n",
    "p = np.zeros((size, size)) \n",
    "L = 1 # dimensionless LX / LX\n",
    "H = 1 # dimensionless LY / LX\n",
    "dx = L / (size - 1)\n",
    "dy = H / (size - 1)\n",
    "CFL = 0.04\n",
    "dt = CFL * min(dx , dy)\n",
    "RE = 20\n",
    "sol_u, sol_v, sol_p = solve_flow(5000, size, size, u, v, dt, dx, dy, p, u0=u0, v0=v0 )\n",
    "fig1, axes = plt.subplots(3, 3, figsize = (16,15))\n",
    "axes[0,0].imshow(img[N,0,:,:].detach().cpu().numpy())\n",
    "axes[0,1].imshow(img[N,1,:,:].detach().cpu().numpy())\n",
    "axes[0,2].imshow(img[N,2,:,:].detach().cpu().numpy())\n",
    "\n",
    "axes[1,0].imshow(sol_u, vmin=UMIN, vmax=UMAX)\n",
    "axes[1,1].imshow(sol_v, vmin=VMIN, vmax=VMAX)\n",
    "axes[1,2].imshow(sol_p, vmin=PMIN, vmax=PMAX)\n",
    "\n",
    "\n",
    "axes[2,0].imshow(output[N,0,:,:].detach().cpu().numpy(), vmin=UMIN, vmax=UMAX)\n",
    "axes[2,1].imshow(output[N,1,:,:].detach().cpu().numpy(), vmin=VMIN, vmax=VMAX)\n",
    "axes[2,2].imshow(output[N,2,:,:].detach().cpu().numpy(), vmin=PMIN, vmax=PMAX)\n",
    "\n",
    "\n",
    "print(get_loss(img,output))\n",
    "del img, output\n",
    "# fig1.savefig(\"0206Warm_example_03.png\")"
   ]
  },
  {
   "cell_type": "code",
   "execution_count": 175,
   "metadata": {},
   "outputs": [
    {
     "ename": "NameError",
     "evalue": "name 'img' is not defined",
     "output_type": "error",
     "traceback": [
      "\u001b[0;31m---------------------------------------------------------------------------\u001b[0m",
      "\u001b[0;31mNameError\u001b[0m                                 Traceback (most recent call last)",
      "\u001b[0;32m<ipython-input-175-a8a19733a01f>\u001b[0m in \u001b[0;36m<module>\u001b[0;34m\u001b[0m\n\u001b[0;32m----> 1\u001b[0;31m \u001b[0mget_loss\u001b[0m\u001b[0;34m(\u001b[0m\u001b[0mimg\u001b[0m\u001b[0;34m,\u001b[0m\u001b[0moutput\u001b[0m\u001b[0;34m)\u001b[0m\u001b[0;34m\u001b[0m\u001b[0;34m\u001b[0m\u001b[0m\n\u001b[0m",
      "\u001b[0;31mNameError\u001b[0m: name 'img' is not defined"
     ]
    }
   ],
   "source": [
    "get_loss(img,output)"
   ]
  },
  {
   "cell_type": "code",
   "execution_count": 26,
   "metadata": {},
   "outputs": [],
   "source": [
    "fig1.savefig(\"Partial_example_03.png\")"
   ]
  },
  {
   "cell_type": "raw",
   "metadata": {},
   "source": [
    "size = 32\n",
    "u = np.zeros((size, size))\n",
    "v = np.zeros((size, size))\n",
    "p = np.zeros((size, size))\n",
    "u0 = 0.5\n",
    "v0 = 0\n",
    "u0_vector = np.zeros((1,size))\n",
    "v0_vector = np.zeros((1,size))\n",
    "u0_vector[0, 20:32] = u0  \n",
    "v0_vector[0, 20:32] = v0  \n",
    "\n",
    "testUsol, testVsol, testPsol = solve_flow(5000, 32, 32, u, v, dt, dx, dy, p, u0=u0_vector, v0=v0_vector)\n",
    "\n",
    "u = np.zeros((size, size))\n",
    "v = np.zeros((size, size))\n",
    "p = np.zeros((size, size)) \n",
    "iniU, iniV, iniP = solve_flow(1, 32, 32, u, v, dt, dx, dy, p, u0=u0_vector, v0=v0_vector)\n",
    "\n",
    "warmS = torch.zeros(1, 3, 32, 32).type(dtype)\n",
    "warmS[0,0,:,:] = torch.from_numpy(iniU)\n",
    "warmS[0,1,:,:] = torch.from_numpy(iniV)\n",
    "warmS[0,2,:,:] = torch.from_numpy(iniP)\n",
    "\n",
    "# warmS[1:] = img[1:]\n",
    "# print(warmS)\n",
    "\n",
    "# unet.eval()\n",
    "del testoutput\n",
    "testoutput = unet(warmS).type(dtype)\n"
   ]
  },
  {
   "cell_type": "code",
   "execution_count": 22,
   "metadata": {},
   "outputs": [
    {
     "data": {
      "image/png": "[encoded data removed]",
      "text/plain": [
       "<Figure size 1152x1152 with 9 Axes>"
      ]
     },
     "metadata": {
      "needs_background": "light"
     },
     "output_type": "display_data"
    }
   ],
   "source": [
    "plt.rcParams['image.cmap'] = 'jet'\n",
    "\n",
    "size = 32\n",
    "u = np.zeros((size, size))\n",
    "v = np.zeros((size, size))\n",
    "p = np.zeros((size, size))\n",
    "u0 = 0.5\n",
    "v0 = 0\n",
    "u0_vector = np.zeros((1,size))\n",
    "v0_vector = np.zeros((1,size))\n",
    "u0_vector[0, 1:14] = u0  \n",
    "v0_vector[0, 1:32] = v0  \n",
    "\n",
    "testUsol, testVsol, testPsol = solve_flow(1000, 32, 32, u, v, dt, dx, dy, p, u0=u0_vector, v0=v0_vector)\n",
    "\n",
    "u = np.zeros((size, size))\n",
    "v = np.zeros((size, size))\n",
    "p = np.zeros((size, size)) \n",
    "iniU, iniV, iniP = solve_flow(1, 32, 32, u, v, dt, dx, dy, p, u0=u0_vector, v0=v0_vector)\n",
    "\n",
    "warmS = torch.zeros(1, 3, 32, 32).type(dtype)\n",
    "warmS[0,0,:,:] = torch.from_numpy(iniU)\n",
    "warmS[0,1,:,:] = torch.from_numpy(iniV)\n",
    "warmS[0,2,:,:] = torch.from_numpy(iniP)\n",
    "\n",
    "# warmS[1:] = img[1:]\n",
    "# print(warmS)\n",
    "\n",
    "# unet.eval()\n",
    "\n",
    "testoutput = unet(warmS).type(dtype)\n",
    "\n",
    "\n",
    "fig2, axes = plt.subplots(3, 3, figsize = (16,16))\n",
    "\n",
    "UMAX, UMIN = 0.5, -0.5\n",
    "VMAX, VMIN = 1.0, -0.25\n",
    "PMAX, PMIN = 6.5, -2.5\n",
    "\n",
    "\n",
    "axes[0,0].imshow(warmS[0,0,:,:].detach().cpu().numpy())\n",
    "axes[0,0].set_title(\"X-Velocity\") \n",
    "axes[0,1].imshow(warmS[0,1,:,:].detach().cpu().numpy())\n",
    "axes[0,1].set_title(\"Y-Velocity\")\n",
    "axes[0,2].imshow(warmS[0,2,:,:].detach().cpu().numpy())\n",
    "axes[0,2].set_title(\"Pressure\") \n",
    "\n",
    "axes[1,0].imshow(testUsol, vmin=UMIN, vmax=UMAX)\n",
    "axes[1,1].imshow(testVsol, vmin=VMIN, vmax=VMAX)\n",
    "axes[1,2].imshow(testPsol, vmin=PMIN, vmax=PMAX)\n",
    "\n",
    "\n",
    "axes[2,0].imshow(testoutput[0,0,:,:].detach().cpu().numpy(), vmin=UMIN, vmax=UMAX)\n",
    "axes[2,1].imshow(testoutput[0,1,:,:].detach().cpu().numpy(),vmin=VMIN, vmax=VMAX)\n",
    "axes[2,2].imshow(testoutput[0,2,:,:].detach().cpu().numpy(),vmin=PMIN, vmax=PMAX)\n",
    "\n",
    "\n",
    "fig2.text(0.06, 0.25, 'Model Generation', fontsize=14, ha='center', va='center', rotation='vertical')\n",
    "fig2.text(0.06, 0.5, 'FDM Solution', fontsize=14, ha='center', va='center', rotation='vertical')\n",
    "fig2.text(0.06, 0.8, 'Initilization', fontsize=14, ha='center', va='center', rotation='vertical')\n",
    "fig2.suptitle('Generation at u0={} v0={}'.format(u0,v0), fontsize=16)\n",
    "fig2.savefig(\"0506_cold_partial.png\")"
   ]
  },
  {
   "cell_type": "code",
   "execution_count": 363,
   "metadata": {},
   "outputs": [
    {
     "data": {
      "text/plain": [
       "tensor(0.1421, device='cuda:0', grad_fn=<AddBackward0>)"
      ]
     },
     "execution_count": 363,
     "metadata": {},
     "output_type": "execute_result"
    }
   ],
   "source": [
    "get_loss(warmS, testoutput)"
   ]
  },
  {
   "cell_type": "code",
   "execution_count": 16,
   "metadata": {},
   "outputs": [
    {
     "data": {
      "image/png": "[encoded data removed]",
      "text/plain": [
       "<Figure size 432x288 with 1 Axes>"
      ]
     },
     "metadata": {
      "needs_background": "light"
     },
     "output_type": "display_data"
    }
   ],
   "source": [
    "Solution = torch.zeros(1,3,32,32).type(dtype)\n",
    "\n",
    "Solution[0,0,:,:] = torch.from_numpy(testUsol)\n",
    "Solution[0,1,:,:] = torch.from_numpy(testVsol)\n",
    "Solution[0,2,:,:] = torch.from_numpy(testPsol)\n",
    "plt.plot( Solution[0,0,16,1:-1].cpu().detach().numpy() )\n",
    "plt.plot( 1.2*testoutput[0,0,16,1:-1].cpu().detach().numpy() )\n",
    "plt.savefig(\"0506_cold_cavity_center2.png\")"
   ]
  },
  {
   "cell_type": "code",
   "execution_count": 364,
   "metadata": {},
   "outputs": [],
   "source": [
    "fig2.savefig('0212complete_pen.png')"
   ]
  },
  {
   "cell_type": "code",
   "execution_count": 295,
   "metadata": {},
   "outputs": [
    {
     "data": {
      "text/plain": [
       "tensor([[2.7076e-02, 3.9534e-02, 3.9522e-02, 2.8121e-02, 1.9735e-02, 1.1945e-02,\n",
       "         6.1950e-03, 2.9372e-03, 2.1015e-03, 5.1654e-03, 7.4519e-03, 1.2013e-02,\n",
       "         1.4435e-02, 1.4798e-02, 1.4703e-02, 1.6412e-02, 1.7825e-02, 1.9745e-02,\n",
       "         2.0517e-02, 2.2773e-02, 2.2579e-02, 2.1564e-02, 2.0232e-02, 1.8218e-02,\n",
       "         1.6232e-02, 1.3818e-02, 3.0257e-03, 7.5291e-04, 2.4134e-02, 5.5663e-02],\n",
       "        [4.5879e-02, 5.9547e-02, 5.9369e-02, 5.2773e-02, 4.5247e-02, 3.8293e-02,\n",
       "         3.1550e-02, 2.5454e-02, 1.8632e-02, 1.4253e-02, 1.0021e-02, 5.0187e-03,\n",
       "         1.6155e-03, 3.9116e-04, 2.6762e-03, 4.3963e-03, 6.3373e-03, 8.5032e-03,\n",
       "         1.0919e-02, 1.3287e-02, 1.3156e-02, 1.2900e-02, 1.2202e-02, 1.1062e-02,\n",
       "         9.0358e-03, 4.5027e-03, 6.1874e-03, 1.2464e-02, 2.5286e-02, 3.3042e-02],\n",
       "        [4.0890e-02, 5.4785e-02, 5.9666e-02, 5.9870e-02, 5.6113e-02, 5.0982e-02,\n",
       "         4.4926e-02, 3.9430e-02, 3.4161e-02, 2.8368e-02, 2.2967e-02, 1.7941e-02,\n",
       "         1.4172e-02, 1.1343e-02, 7.9817e-03, 5.8601e-03, 3.2448e-03, 6.4397e-04,\n",
       "         2.0614e-03, 4.6311e-03, 5.7658e-03, 5.7393e-03, 6.1075e-03, 5.2376e-03,\n",
       "         2.4778e-03, 3.4655e-04, 4.8705e-03, 1.0439e-02, 1.8668e-02, 1.1989e-02],\n",
       "        [3.0835e-02, 4.3833e-02, 5.2069e-02, 5.6176e-02, 5.5924e-02, 5.4363e-02,\n",
       "         5.1249e-02, 4.6650e-02, 4.2088e-02, 3.7313e-02, 3.2375e-02, 2.7457e-02,\n",
       "         2.3678e-02, 2.0414e-02, 1.6732e-02, 1.3998e-02, 1.1400e-02, 8.4743e-03,\n",
       "         5.1348e-03, 2.7281e-03, 1.2388e-03, 7.1661e-04, 4.6788e-04, 1.0517e-03,\n",
       "         6.6474e-05, 5.4181e-04, 3.9861e-03, 5.4885e-03, 5.9731e-03, 2.8992e-03],\n",
       "        [2.2740e-02, 3.3153e-02, 4.2021e-02, 4.8583e-02, 5.1746e-02, 5.2564e-02,\n",
       "         5.1404e-02, 4.9054e-02, 4.5627e-02, 4.1996e-02, 3.8029e-02, 3.3706e-02,\n",
       "         3.0304e-02, 2.6814e-02, 2.2945e-02, 1.9752e-02, 1.7943e-02, 1.4754e-02,\n",
       "         1.0861e-02, 9.0179e-03, 7.0446e-03, 5.5533e-03, 3.8201e-03, 3.0600e-03,\n",
       "         2.0502e-03, 2.4100e-03, 3.3271e-03, 1.8606e-03, 2.2326e-04, 2.9271e-03],\n",
       "        [1.7943e-02, 2.5927e-02, 3.4503e-02, 4.1291e-02, 4.6211e-02, 4.8298e-02,\n",
       "         4.8777e-02, 4.8183e-02, 4.6220e-02, 4.3560e-02, 4.0743e-02, 3.7352e-02,\n",
       "         3.4068e-02, 3.0852e-02, 2.7413e-02, 2.4226e-02, 2.2217e-02, 1.9124e-02,\n",
       "         1.5934e-02, 1.3579e-02, 1.1156e-02, 9.0833e-03, 7.2021e-03, 5.7445e-03,\n",
       "         3.3485e-03, 2.3862e-03, 9.6276e-04, 3.6036e-04, 9.7186e-04, 2.4917e-03],\n",
       "        [1.4379e-02, 2.0697e-02, 2.8027e-02, 3.4892e-02, 4.0273e-02, 4.3424e-02,\n",
       "         4.5226e-02, 4.5646e-02, 4.4584e-02, 4.3206e-02, 4.1292e-02, 3.8866e-02,\n",
       "         3.6427e-02, 3.3192e-02, 3.0192e-02, 2.7208e-02, 2.4671e-02, 2.1788e-02,\n",
       "         1.8672e-02, 1.5985e-02, 1.3524e-02, 1.1015e-02, 8.9163e-03, 6.8770e-03,\n",
       "         4.2442e-03, 2.1499e-03, 9.8308e-04, 1.0473e-03, 2.5526e-03, 3.5071e-03],\n",
       "        [1.1802e-02, 1.6829e-02, 2.2912e-02, 2.8995e-02, 3.4598e-02, 3.8278e-02,\n",
       "         4.0620e-02, 4.1981e-02, 4.1899e-02, 4.1209e-02, 4.0059e-02, 3.8465e-02,\n",
       "         3.6730e-02, 3.4039e-02, 3.1476e-02, 2.8625e-02, 2.6018e-02, 2.3154e-02,\n",
       "         2.0377e-02, 1.7483e-02, 1.4906e-02, 1.2200e-02, 1.0110e-02, 7.9729e-03,\n",
       "         5.1969e-03, 2.8275e-03, 1.0599e-03, 1.3988e-03, 3.4799e-03, 4.7786e-03],\n",
       "        [1.0874e-02, 1.4640e-02, 1.9259e-02, 2.4487e-02, 2.9489e-02, 3.3389e-02,\n",
       "         3.6183e-02, 3.7792e-02, 3.8438e-02, 3.8440e-02, 3.8127e-02, 3.7193e-02,\n",
       "         3.5548e-02, 3.3452e-02, 3.1313e-02, 2.9124e-02, 2.6687e-02, 2.4028e-02,\n",
       "         2.1118e-02, 1.8351e-02, 1.5981e-02, 1.3043e-02, 1.0713e-02, 8.0931e-03,\n",
       "         5.8131e-03, 2.9635e-03, 9.8319e-04, 1.2148e-03, 2.5929e-03, 3.5664e-03],\n",
       "        [9.5935e-03, 1.2704e-02, 1.6598e-02, 2.0905e-02, 2.5465e-02, 2.9035e-02,\n",
       "         3.1900e-02, 3.3753e-02, 3.4858e-02, 3.5379e-02, 3.5662e-02, 3.4971e-02,\n",
       "         3.3892e-02, 3.2368e-02, 3.0724e-02, 2.8437e-02, 2.6304e-02, 2.3909e-02,\n",
       "         2.1104e-02, 1.8486e-02, 1.6088e-02, 1.3338e-02, 1.0987e-02, 8.3800e-03,\n",
       "         5.9352e-03, 2.8860e-03, 1.3154e-03, 4.7323e-04, 2.3206e-03, 3.0698e-03],\n",
       "        [8.5770e-03, 1.0974e-02, 1.4300e-02, 1.7987e-02, 2.1937e-02, 2.5211e-02,\n",
       "         2.7873e-02, 2.9905e-02, 3.1391e-02, 3.2243e-02, 3.2477e-02, 3.2224e-02,\n",
       "         3.1628e-02, 3.0650e-02, 2.9127e-02, 2.7025e-02, 2.5237e-02, 2.3066e-02,\n",
       "         2.0572e-02, 1.8390e-02, 1.6150e-02, 1.3570e-02, 1.1015e-02, 8.3576e-03,\n",
       "         5.9794e-03, 3.6663e-03, 1.7137e-03, 1.3542e-04, 1.1342e-03, 2.0587e-03],\n",
       "        [8.3246e-03, 1.0226e-02, 1.2888e-02, 1.5810e-02, 1.9214e-02, 2.1897e-02,\n",
       "         2.4482e-02, 2.6535e-02, 2.7990e-02, 2.8943e-02, 2.9402e-02, 2.9473e-02,\n",
       "         2.9024e-02, 2.8184e-02, 2.6982e-02, 2.5405e-02, 2.3728e-02, 2.1822e-02,\n",
       "         1.9569e-02, 1.7466e-02, 1.5382e-02, 1.3028e-02, 1.0704e-02, 8.3609e-03,\n",
       "         5.9618e-03, 3.7690e-03, 2.0591e-03, 3.7944e-04, 1.1195e-03, 1.9001e-03],\n",
       "        [8.5443e-03, 9.8911e-03, 1.1924e-02, 1.4257e-02, 1.6850e-02, 1.9155e-02,\n",
       "         2.1500e-02, 2.3242e-02, 2.4745e-02, 2.5657e-02, 2.6416e-02, 2.6538e-02,\n",
       "         2.6247e-02, 2.5467e-02, 2.4474e-02, 2.3244e-02, 2.1787e-02, 2.0117e-02,\n",
       "         1.8182e-02, 1.6535e-02, 1.4469e-02, 1.2316e-02, 1.0178e-02, 7.8532e-03,\n",
       "         5.8972e-03, 3.6372e-03, 2.1132e-03, 6.7652e-04, 4.3545e-04, 1.0895e-03],\n",
       "        [7.9971e-03, 9.1040e-03, 1.0736e-02, 1.2802e-02, 1.4932e-02, 1.6865e-02,\n",
       "         1.8778e-02, 2.0309e-02, 2.1454e-02, 2.2389e-02, 2.3256e-02, 2.3426e-02,\n",
       "         2.3200e-02, 2.2805e-02, 2.2100e-02, 2.1062e-02, 1.9852e-02, 1.8511e-02,\n",
       "         1.7036e-02, 1.5451e-02, 1.3671e-02, 1.1605e-02, 9.6087e-03, 7.6605e-03,\n",
       "         5.7262e-03, 3.8948e-03, 2.2578e-03, 7.5233e-04, 5.7339e-04, 1.2456e-03],\n",
       "        [7.6164e-03, 8.6331e-03, 1.0054e-02, 1.1633e-02, 1.3266e-02, 1.4831e-02,\n",
       "         1.6324e-02, 1.7625e-02, 1.8698e-02, 1.9538e-02, 2.0105e-02, 2.0422e-02,\n",
       "         2.0415e-02, 2.0205e-02, 1.9600e-02, 1.8799e-02, 1.7898e-02, 1.6784e-02,\n",
       "         1.5499e-02, 1.4192e-02, 1.2701e-02, 1.1096e-02, 9.2771e-03, 7.5804e-03,\n",
       "         6.0032e-03, 4.3626e-03, 2.8467e-03, 1.5717e-03, 4.4289e-04, 2.7209e-06],\n",
       "        [7.6905e-03, 8.2567e-03, 9.2320e-03, 1.0362e-02, 1.1529e-02, 1.2693e-02,\n",
       "         1.3820e-02, 1.4850e-02, 1.5703e-02, 1.6458e-02, 1.7050e-02, 1.7376e-02,\n",
       "         1.7541e-02, 1.7499e-02, 1.7138e-02, 1.6569e-02, 1.5996e-02, 1.5186e-02,\n",
       "         1.4163e-02, 1.3130e-02, 1.1886e-02, 1.0397e-02, 8.9364e-03, 7.3528e-03,\n",
       "         5.9187e-03, 4.4143e-03, 2.9203e-03, 1.7397e-03, 6.8378e-04, 8.1033e-05],\n",
       "        [7.6600e-03, 7.9116e-03, 8.4287e-03, 9.1199e-03, 9.9088e-03, 1.0624e-02,\n",
       "         1.1402e-02, 1.2139e-02, 1.2859e-02, 1.3492e-02, 1.4119e-02, 1.4488e-02,\n",
       "         1.4839e-02, 1.4937e-02, 1.4870e-02, 1.4602e-02, 1.4219e-02, 1.3681e-02,\n",
       "         1.3081e-02, 1.2201e-02, 1.1121e-02, 9.9335e-03, 8.7328e-03, 7.3277e-03,\n",
       "         5.9398e-03, 4.5030e-03, 3.1458e-03, 1.9536e-03, 1.0037e-03, 3.1349e-04],\n",
       "        [7.1954e-03, 7.3803e-03, 7.5490e-03, 7.8313e-03, 8.1803e-03, 8.6124e-03,\n",
       "         9.1796e-03, 9.6097e-03, 1.0195e-02, 1.0820e-02, 1.1387e-02, 1.1859e-02,\n",
       "         1.2208e-02, 1.2504e-02, 1.2712e-02, 1.2681e-02, 1.2626e-02, 1.2400e-02,\n",
       "         1.2068e-02, 1.1436e-02, 1.0623e-02, 9.6474e-03, 8.6528e-03, 7.4153e-03,\n",
       "         6.0560e-03, 4.6633e-03, 3.3486e-03, 2.0734e-03, 1.0723e-03, 2.6312e-04],\n",
       "        [6.5173e-03, 6.6324e-03, 6.5240e-03, 6.4725e-03, 6.5100e-03, 6.6283e-03,\n",
       "         6.8405e-03, 7.1587e-03, 7.6500e-03, 8.1452e-03, 8.6402e-03, 9.1750e-03,\n",
       "         9.8714e-03, 1.0288e-02, 1.0829e-02, 1.1080e-02, 1.1223e-02, 1.1285e-02,\n",
       "         1.1208e-02, 1.0941e-02, 1.0329e-02, 9.6689e-03, 8.8117e-03, 7.6776e-03,\n",
       "         6.4212e-03, 5.0563e-03, 3.7202e-03, 2.5278e-03, 1.4900e-03, 8.7365e-04],\n",
       "        [6.2179e-03, 6.0499e-03, 5.5895e-03, 5.0946e-03, 4.7302e-03, 4.5215e-03,\n",
       "         4.5142e-03, 4.6838e-03, 5.0921e-03, 5.5859e-03, 6.0799e-03, 6.8025e-03,\n",
       "         7.5308e-03, 8.2029e-03, 8.9711e-03, 9.5752e-03, 9.9997e-03, 1.0308e-02,\n",
       "         1.0526e-02, 1.0545e-02, 1.0255e-02, 9.7688e-03, 9.1009e-03, 8.1043e-03,\n",
       "         6.9942e-03, 5.6692e-03, 4.3138e-03, 2.9350e-03, 1.7112e-03, 9.8161e-04],\n",
       "        [5.7898e-03, 5.2610e-03, 4.4040e-03, 3.5468e-03, 2.7816e-03, 2.2659e-03,\n",
       "         2.1161e-03, 2.1798e-03, 2.4669e-03, 3.0245e-03, 3.7291e-03, 4.5473e-03,\n",
       "         5.3784e-03, 6.2769e-03, 7.2756e-03, 8.1034e-03, 8.8980e-03, 9.4945e-03,\n",
       "         1.0046e-02, 1.0371e-02, 1.0350e-02, 1.0040e-02, 9.6080e-03, 8.8267e-03,\n",
       "         7.7355e-03, 6.4163e-03, 4.9234e-03, 3.3938e-03, 1.9399e-03, 9.6773e-04],\n",
       "        [4.9961e-03, 4.1780e-03, 2.9752e-03, 1.8145e-03, 7.4233e-04, 3.6826e-05,\n",
       "         3.4807e-04, 4.2055e-04, 1.0576e-04, 5.0448e-04, 1.3958e-03, 2.3964e-03,\n",
       "         3.4620e-03, 4.4777e-03, 5.7787e-03, 6.7620e-03, 7.9021e-03, 8.8523e-03,\n",
       "         9.7099e-03, 1.0282e-02, 1.0575e-02, 1.0610e-02, 1.0316e-02, 9.6929e-03,\n",
       "         8.7187e-03, 7.3431e-03, 5.6812e-03, 3.9428e-03, 2.2535e-03, 9.9731e-04],\n",
       "        [4.0616e-03, 2.9440e-03, 1.3585e-03, 1.6746e-04, 1.4942e-03, 2.3879e-03,\n",
       "         2.8813e-03, 2.9091e-03, 2.4952e-03, 1.8185e-03, 8.4854e-04, 3.1562e-04,\n",
       "         1.7010e-03, 2.9552e-03, 4.3423e-03, 5.6663e-03, 7.0340e-03, 8.3023e-03,\n",
       "         9.4160e-03, 1.0409e-02, 1.0996e-02, 1.1278e-02, 1.1242e-02, 1.0777e-02,\n",
       "         9.8598e-03, 8.4680e-03, 6.6464e-03, 4.6640e-03, 2.6433e-03, 1.1977e-03],\n",
       "        [3.3670e-03, 1.6869e-03, 4.2741e-04, 2.3753e-03, 3.9149e-03, 4.9656e-03,\n",
       "         5.4710e-03, 5.4078e-03, 4.8387e-03, 3.9955e-03, 2.8549e-03, 1.5490e-03,\n",
       "         7.9699e-05, 1.4688e-03, 3.0556e-03, 4.6105e-03, 6.3179e-03, 7.8305e-03,\n",
       "         9.2031e-03, 1.0425e-02, 1.1354e-02, 1.1941e-02, 1.2199e-02, 1.1981e-02,\n",
       "         1.1220e-02, 9.8461e-03, 7.9366e-03, 5.6623e-03, 3.2259e-03, 1.3664e-03],\n",
       "        [2.4286e-03, 1.7678e-04, 2.4920e-03, 4.7654e-03, 6.4636e-03, 7.5247e-03,\n",
       "         7.8555e-03, 7.6036e-03, 6.9622e-03, 5.9125e-03, 4.6869e-03, 3.0990e-03,\n",
       "         1.5455e-03, 1.6539e-04, 1.9871e-03, 3.7607e-03, 5.5601e-03, 7.2982e-03,\n",
       "         8.9111e-03, 1.0440e-02, 1.1605e-02, 1.2517e-02, 1.3121e-02, 1.3212e-02,\n",
       "         1.2651e-02, 1.1409e-02, 9.4905e-03, 7.0122e-03, 4.1239e-03, 1.8207e-03],\n",
       "        [1.0561e-03, 1.7504e-03, 4.8922e-03, 7.3192e-03, 8.9665e-03, 9.8093e-03,\n",
       "         9.8804e-03, 9.4361e-03, 8.5992e-03, 7.3613e-03, 6.0021e-03, 4.3738e-03,\n",
       "         2.6014e-03, 8.3205e-04, 1.0370e-03, 2.8582e-03, 4.8087e-03, 6.6992e-03,\n",
       "         8.5283e-03, 1.0178e-02, 1.1669e-02, 1.2905e-02, 1.3820e-02, 1.4219e-02,\n",
       "         1.4009e-02, 1.3078e-02, 1.1269e-02, 8.6663e-03, 5.3897e-03, 2.4769e-03],\n",
       "        [6.5965e-04, 4.0401e-03, 7.4097e-03, 9.7516e-03, 1.1145e-02, 1.1625e-02,\n",
       "         1.1358e-02, 1.0615e-02, 9.5389e-03, 8.2044e-03, 6.7397e-03, 5.1259e-03,\n",
       "         3.3700e-03, 1.5829e-03, 2.2641e-04, 2.0722e-03, 3.9824e-03, 5.8743e-03,\n",
       "         7.7803e-03, 9.5895e-03, 1.1278e-02, 1.2716e-02, 1.3892e-02, 1.4649e-02,\n",
       "         1.4870e-02, 1.4380e-02, 1.2918e-02, 1.0399e-02, 6.7668e-03, 3.1761e-03],\n",
       "        [2.4089e-03, 6.5883e-03, 9.8837e-03, 1.1725e-02, 1.2512e-02, 1.2462e-02,\n",
       "         1.1788e-02, 1.0744e-02, 9.5105e-03, 8.1594e-03, 6.6805e-03, 5.1725e-03,\n",
       "         3.5762e-03, 1.9211e-03, 2.7190e-04, 1.4256e-03, 3.1208e-03, 4.8872e-03,\n",
       "         6.7458e-03, 8.4979e-03, 1.0219e-02, 1.1755e-02, 1.3152e-02, 1.4259e-02,\n",
       "         1.4944e-02, 1.5043e-02, 1.4289e-02, 1.2273e-02, 8.7366e-03, 4.3674e-03],\n",
       "        [3.3738e-03, 7.9667e-03, 1.0807e-02, 1.1808e-02, 1.1905e-02, 1.1403e-02,\n",
       "         1.0420e-02, 9.2836e-03, 8.0927e-03, 6.8978e-03, 5.6168e-03, 4.3836e-03,\n",
       "         3.0755e-03, 1.7496e-03, 3.9962e-04, 9.1688e-04, 2.2440e-03, 3.5895e-03,\n",
       "         5.1605e-03, 6.6397e-03, 8.1329e-03, 9.5129e-03, 1.0872e-02, 1.2122e-02,\n",
       "         1.3099e-02, 1.3762e-02, 1.3763e-02, 1.2612e-02, 9.7637e-03, 5.2763e-03],\n",
       "        [5.3648e-03, 1.0233e-02, 1.0768e-02, 1.0049e-02, 9.1118e-03, 8.2498e-03,\n",
       "         6.9902e-03, 6.2260e-03, 5.2585e-03, 4.5250e-03, 3.4639e-03, 2.8373e-03,\n",
       "         1.9722e-03, 1.1876e-03, 3.4385e-05, 5.3219e-04, 1.2896e-03, 2.0124e-03,\n",
       "         3.1121e-03, 3.9263e-03, 4.8247e-03, 5.8439e-03, 7.0249e-03, 8.0983e-03,\n",
       "         9.2095e-03, 1.0286e-02, 1.1270e-02, 1.1767e-02, 1.1233e-02, 6.9851e-03]],\n",
       "       device='cuda:0', grad_fn=<AbsBackward>)"
      ]
     },
     "execution_count": 295,
     "metadata": {},
     "output_type": "execute_result"
    }
   ],
   "source": [
    "torch.abs( (testoutput[0,0,1:-1,1:-1] - Solution[0,0,1:-1,1:-1]) ) "
   ]
  },
  {
   "cell_type": "code",
   "execution_count": 331,
   "metadata": {},
   "outputs": [],
   "source": [
    "A  = []\n",
    "for k in range(2048):\n",
    "    A.append( (S[k,0,0,:].numpy().max()) )"
   ]
  },
  {
   "cell_type": "code",
   "execution_count": 332,
   "metadata": {},
   "outputs": [
    {
     "data": {
      "text/plain": [
       "(array([187., 222., 218., 204., 210., 206., 194., 226., 197., 184.]),\n",
       " array([0.  , 0.05, 0.1 , 0.15, 0.2 , 0.25, 0.3 , 0.35, 0.4 , 0.45, 0.5 ],\n",
       "       dtype=float32),\n",
       " <a list of 10 Patch objects>)"
      ]
     },
     "execution_count": 332,
     "metadata": {},
     "output_type": "execute_result"
    },
    {
     "data": {
      "image/png": "[encoded data removed]",
      "text/plain": [
       "<Figure size 432x288 with 1 Axes>"
      ]
     },
     "metadata": {
      "needs_background": "light"
     },
     "output_type": "display_data"
    }
   ],
   "source": [
    "plt.hist(A)"
   ]
  },
  {
   "cell_type": "code",
   "execution_count": 45,
   "metadata": {},
   "outputs": [],
   "source": [
    "torch.save({\n",
    "                'epoch': epoch,\n",
    "                'model_state_dict': unet.state_dict(),\n",
    "                'optimizer_state_dict': optimizer.state_dict(),\n",
    "                }, 'NScavityFlow_withpartial.pth')"
   ]
  },
  {
   "cell_type": "code",
   "execution_count": null,
   "metadata": {},
   "outputs": [],
   "source": []
  }
 ],
 "metadata": {
  "kernelspec": {
   "display_name": "Python 3",
   "language": "python",
   "name": "python3"
  },
  "language_info": {
   "codemirror_mode": {
    "name": "ipython",
    "version": 3
   },
   "file_extension": ".py",
   "mimetype": "text/x-python",
   "name": "python",
   "nbconvert_exporter": "python",
   "pygments_lexer": "ipython3",
   "version": "3.7.4"
  }
 },
 "nbformat": 4,
 "nbformat_minor": 2
}
